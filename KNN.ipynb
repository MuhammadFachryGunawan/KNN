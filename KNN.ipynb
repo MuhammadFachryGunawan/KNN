{
  "nbformat": 4,
  "nbformat_minor": 0,
  "metadata": {
    "colab": {
      "provenance": []
    },
    "kernelspec": {
      "name": "python3",
      "display_name": "Python 3"
    },
    "language_info": {
      "name": "python"
    }
  },
  "cells": [
    {
      "cell_type": "code",
      "source": [
        "import pandas as pd\n",
        "dTrain = pd.read_excel('https://github.com/fahrinavia/prblm/blob/main/traintest.xlsx?raw=true', \"train\")\n",
        "dTest = pd.read_excel('https://github.com/fahrinavia/prblm/blob/main/traintest.xlsx?raw=true', \"test\")\n",
        "\n",
        "train = []\n",
        "for i in range(256) : \n",
        "  train.append([dTrain['x1'][i],dTrain['x2'][i],dTrain['x3'][i]])\n",
        "yTrain = []\n",
        "for i in range(256) : \n",
        "  yTrain.append(dTrain['y'][i])\n",
        "\n",
        "valid = []\n",
        "for i in range(256,len(dTrain),1) : \n",
        "  valid.append([dTrain['x1'][i],dTrain['x2'][i],dTrain['x3'][i]])\n",
        "yValid = []\n",
        "for i in range(256,len(dTrain),1) : \n",
        "  yValid.append(dTrain['y'][i])\n",
        "\n",
        "test = []\n",
        "for i in range(len(dTest)) :\n",
        "  test.append([dTest['x1'][i],dTest['x2'][i],dTest['x3'][i]])"
      ],
      "metadata": {
        "id": "PAGpDZ1-MYVt"
      },
      "execution_count": null,
      "outputs": []
    },
    {
      "cell_type": "code",
      "source": [
        "def manhattan(a,b) : \n",
        "  return abs(a[0]-b[0]) + abs(a[1]-b[1]) + abs(a[2]-b[2])"
      ],
      "metadata": {
        "id": "P5CQWjXANASW"
      },
      "execution_count": null,
      "outputs": []
    },
    {
      "cell_type": "code",
      "source": [
        "#Training\n",
        "#k = 1\n",
        "#implementsi model\n",
        "resultvalidasi = []\n",
        "\n",
        "for j in range(len(valid)) : \n",
        "  jarakmin = manhattan(valid[j],train[0])\n",
        "  min = 0\n",
        "  for k in range(len(train)) : \n",
        "    jarak = manhattan(valid[j],train[k])\n",
        "    if jarak<jarakmin :\n",
        "      jarakmin = jarak\n",
        "      min = k\n",
        "  resultvalidasi.append(yTrain[min])\n",
        "\n",
        "#simpan hasil training\n",
        "jum = 0\n",
        "for i in range(len(yValid)) : \n",
        "  if yValid[i] == resultvalidasi[i] : \n",
        "    jum = jum + 1\n",
        "print(\"Akurasi K = 1 : \",(jum/len(yValid))*100,\"%\")"
      ],
      "metadata": {
        "colab": {
          "base_uri": "https://localhost:8080/"
        },
        "id": "4D-BJqUcMex_",
        "outputId": "600edcc1-738e-444f-c09f-5ea35c722f3c"
      },
      "execution_count": null,
      "outputs": [
        {
          "output_type": "stream",
          "name": "stdout",
          "text": [
            "Akurasi K = 1 :  72.5 %\n"
          ]
        }
      ]
    },
    {
      "cell_type": "code",
      "source": [
        "#k = 3\n",
        "resultvalidasi = []\n",
        "\n",
        "for j in range(len(valid)) : \n",
        "  jarakminim = [manhattan(valid[j],train[0]),manhattan(valid[j],train[1]),manhattan(valid[j],train[2])]\n",
        "  minim = [0,1,2]\n",
        "  for k in range(len(train)) : \n",
        "    jarak = manhattan(valid[j],train[k])\n",
        "    if jarak < max(jarakminim) :\n",
        "      keluar = jarakminim.index(max(jarakminim))\n",
        "      jarakminim[keluar] = jarak\n",
        "      minim[keluar] = k\n",
        "\n",
        "  hasil = []\n",
        "  for l in minim : \n",
        "    hasil.append(yTrain[l])\n",
        "  rerata = sum(hasil)/len(hasil)\n",
        "  if rerata < 0.5 : \n",
        "    resultvalidasi.append(0)\n",
        "  else : \n",
        "    resultvalidasi.append(1)\n",
        "\n",
        "jum = 0\n",
        "for i in range(len(yValid)) : \n",
        "  if yValid[i] == resultvalidasi[i] : \n",
        "    jum = jum + 1\n",
        "print(\"Akurasi K = 3 : \",(jum/len(yValid))*100,\"%\")"
      ],
      "metadata": {
        "colab": {
          "base_uri": "https://localhost:8080/"
        },
        "id": "eZzKaVGCMhxd",
        "outputId": "82d17a15-704b-4e97-a861-b80246b19f67"
      },
      "execution_count": null,
      "outputs": [
        {
          "output_type": "stream",
          "name": "stdout",
          "text": [
            "Akurasi K = 3 :  70.0 %\n"
          ]
        }
      ]
    },
    {
      "cell_type": "code",
      "source": [
        "#k = 5\n",
        "resultvalidasi = []\n",
        "\n",
        "for j in range(len(valid)) : \n",
        "  jarakminim = [manhattan(valid[j],train[0]),manhattan(valid[j],train[1]),manhattan(valid[j],train[2]),manhattan(valid[j],train[3]),manhattan(valid[j],train[4])]\n",
        "  minim = [0,1,2,3,4]\n",
        "  for k in range(len(train)) : \n",
        "    jarak = manhattan(valid[j],train[k])\n",
        "    if jarak < max(jarakminim) :\n",
        "      keluar = jarakminim.index(max(jarakminim))\n",
        "      jarakminim[keluar] = jarak\n",
        "      minim[keluar] = k\n",
        "\n",
        "  hasil = []\n",
        "  for l in minim : \n",
        "    hasil.append(yTrain[l])\n",
        "  rerata = sum(hasil)/len(hasil)\n",
        "  if rerata < 0.5 : \n",
        "    resultvalidasi.append(0)\n",
        "  else : \n",
        "    resultvalidasi.append(1)\n",
        "\n",
        "jum = 0\n",
        "for i in range(len(yValid)) : \n",
        "  if yValid[i] == resultvalidasi[i] : \n",
        "    jum = jum + 1\n",
        "print(\"Akurasi K = 5 : \",(jum/len(yValid))*100,\"%\")"
      ],
      "metadata": {
        "colab": {
          "base_uri": "https://localhost:8080/"
        },
        "id": "RYy8arNZMjMP",
        "outputId": "46bbcff4-d9fc-483a-def3-f37114a12be6"
      },
      "execution_count": null,
      "outputs": [
        {
          "output_type": "stream",
          "name": "stdout",
          "text": [
            "Akurasi K = 5 :  70.0 %\n"
          ]
        }
      ]
    },
    {
      "cell_type": "code",
      "source": [
        "#k = 7\n",
        "resultvalidasi = []\n",
        "\n",
        "for j in range(len(valid)) : \n",
        "  jarakminim = [manhattan(valid[j],train[0]),manhattan(valid[j],train[1]),manhattan(valid[j],train[2]),manhattan(valid[j],train[3]),manhattan(valid[j],train[4]),manhattan(valid[j],train[5]),manhattan(valid[j],train[6])]\n",
        "  minim = [0,1,2,3,4,5,6]\n",
        "  for k in range(len(train)) : \n",
        "    jarak = manhattan(valid[j],train[k])\n",
        "    if jarak < max(jarakminim) :\n",
        "      keluar = jarakminim.index(max(jarakminim))\n",
        "      jarakminim[keluar] = jarak\n",
        "      minim[keluar] = k\n",
        "\n",
        "  hasil = []\n",
        "  for l in minim : \n",
        "    hasil.append(yTrain[l])\n",
        "  rerata = sum(hasil)/len(hasil)\n",
        "  if rerata < 0.5 : \n",
        "    resultvalidasi.append(0)\n",
        "  else : \n",
        "    resultvalidasi.append(1)\n",
        "\n",
        "jum = 0\n",
        "for i in range(len(yValid)) : \n",
        "  if yValid[i] == resultvalidasi[i] : \n",
        "    jum = jum + 1\n",
        "print(\"Akurasi K = 7 : \",(jum/len(yValid))*100,\"%\")"
      ],
      "metadata": {
        "colab": {
          "base_uri": "https://localhost:8080/"
        },
        "id": "QAn595rbMkVn",
        "outputId": "43f5835b-1b5a-4351-a5d8-ef6504e615c7"
      },
      "execution_count": null,
      "outputs": [
        {
          "output_type": "stream",
          "name": "stdout",
          "text": [
            "Akurasi K = 7 :  67.5 %\n"
          ]
        }
      ]
    },
    {
      "cell_type": "code",
      "source": [
        "#k = 9\n",
        "resultvalidasi = []\n",
        "\n",
        "for j in range(len(valid)) : \n",
        "  jarakminim = [manhattan(valid[j],train[0]),manhattan(valid[j],train[1]),manhattan(valid[j],train[2]),manhattan(valid[j],train[3]),manhattan(valid[j],train[4]),manhattan(valid[j],train[5]),manhattan(valid[j],train[6]),manhattan(valid[j],train[7]),manhattan(valid[j],train[8])]\n",
        "  minim = [0,1,2,3,4,5,6,7,8]\n",
        "  for k in range(len(train)) : \n",
        "    jarak = manhattan(valid[j],train[k])\n",
        "    if jarak < max(jarakminim) :\n",
        "      keluar = jarakminim.index(max(jarakminim))\n",
        "      jarakminim[keluar] = jarak\n",
        "      minim[keluar] = k\n",
        "\n",
        "  hasil = []\n",
        "  for l in minim : \n",
        "    hasil.append(yTrain[l])\n",
        "  rerata = sum(hasil)/len(hasil)\n",
        "  if rerata < 0.5 : \n",
        "    resultvalidasi.append(0)\n",
        "  else : \n",
        "    resultvalidasi.append(1)\n",
        "\n",
        "jum = 0\n",
        "for i in range(len(yValid)) : \n",
        "  if yValid[i] == resultvalidasi[i] : \n",
        "    jum = jum + 1\n",
        "print(\"Akurasi K = 9 : \",(jum/len(yValid))*100,\"%\")"
      ],
      "metadata": {
        "colab": {
          "base_uri": "https://localhost:8080/"
        },
        "id": "SHBFYHTqMlls",
        "outputId": "68ca69c4-6655-4ba1-efdf-31f0dc4c70df"
      },
      "execution_count": null,
      "outputs": [
        {
          "output_type": "stream",
          "name": "stdout",
          "text": [
            "Akurasi K = 9 :  67.5 %\n"
          ]
        }
      ]
    },
    {
      "cell_type": "code",
      "source": [
        "#menggunakan k = 1 karna akurasinya paling tinggi\n",
        "testResult = []\n",
        "\n",
        "train = train + valid\n",
        "yTrain = yTrain + yValid\n",
        "\n",
        "for j in range(len(test)) : \n",
        "  jarakmin = manhattan(test[j],train[0])\n",
        "  min = 0\n",
        "  for k in range(len(train)) : \n",
        "    jarak = manhattan(test[j],train[k])\n",
        "    if jarak<jarakmin :\n",
        "      jarakmin = jarak\n",
        "      min = k\n",
        "  testResult.append(yTrain[min])\n",
        "\n",
        "print(len(train))\n",
        "print(testResult)"
      ],
      "metadata": {
        "colab": {
          "base_uri": "https://localhost:8080/"
        },
        "id": "0ewIsLVYMmu2",
        "outputId": "f4077de6-1c6d-4c9d-9f99-3bd10283c45d"
      },
      "execution_count": null,
      "outputs": [
        {
          "output_type": "stream",
          "name": "stdout",
          "text": [
            "296\n",
            "[1, 1, 1, 1, 1, 1, 1, 0, 1, 1]\n"
          ]
        }
      ]
    },
    {
      "cell_type": "code",
      "source": [
        "hasil = []\n",
        "\n",
        "for i in range(len(dTest)) :\n",
        "  hasil.append([dTest['x1'][i], dTest['x2'][i], dTest['x3'][i], testResult[i]])\n",
        "\n",
        "export = pd.DataFrame(hasil, columns=[\"x1\", \"x2\", \"x3\", \"y\"])\n",
        "\n",
        "export.to_excel(\"hasil_akhirr.xlsx\")"
      ],
      "metadata": {
        "id": "uEhjXcWqQkHr"
      },
      "execution_count": null,
      "outputs": []
    }
  ]
}